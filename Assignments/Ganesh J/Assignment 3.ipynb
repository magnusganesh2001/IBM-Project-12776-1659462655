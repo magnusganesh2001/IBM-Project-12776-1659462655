{
 "cells": [
  {
   "cell_type": "markdown",
   "metadata": {
    "id": "hjX4SahI3mR2"
   },
   "source": [
    "# **1. Download the Dataset**"
   ]
  },
  {
   "cell_type": "markdown",
   "metadata": {
    "id": "fDOkA0Ac4IzI"
   },
   "source": [
    " The dataset is successfully downloaded."
   ]
  },
  {
   "cell_type": "markdown",
   "metadata": {
    "id": "UoQMSFuH4O5o"
   },
   "source": [
    "# **2. Image Augmentation**"
   ]
  },
  {
   "cell_type": "code",
   "execution_count": 1,
   "metadata": {
    "id": "CbeCj7oC4Mw6"
   },
   "outputs": [],
   "source": [
    "from tensorflow.keras.preprocessing.image import ImageDataGenerator\n",
    "from matplotlib.pyplot import imread,imshow,subplots,show\n",
    "import numpy as np\n",
    "import os\n",
    "from PIL import Image\n",
    "from skimage import io"
   ]
  },
  {
   "cell_type": "code",
   "execution_count": 2,
   "metadata": {
    "id": "Pu0JXBGQ4gvh"
   },
   "outputs": [],
   "source": [
    "train_data=ImageDataGenerator(rescale=1./255,zoom_range=0.2,horizontal_flip=True)"
   ]
  },
  {
   "cell_type": "code",
   "execution_count": 3,
   "metadata": {
    "id": "SzttSRGR4nUi"
   },
   "outputs": [],
   "source": [
    "test_data=ImageDataGenerator(rescale=1./255)"
   ]
  },
  {
   "cell_type": "code",
   "execution_count": 4,
   "metadata": {
    "colab": {
     "base_uri": "https://localhost:8080/",
     "height": 415
    },
    "id": "s9fHWSGt4qEd",
    "outputId": "127fbbeb-f46b-473f-e40f-90ee37ec2989"
   },
   "outputs": [
    {
     "name": "stdout",
     "output_type": "stream",
     "text": [
      "Found 4317 images belonging to 5 classes.\n"
     ]
    }
   ],
   "source": [
    "xtrain=train_data.flow_from_directory('flowers/', target_size=(64,64), class_mode='categorical', batch_size=100)"
   ]
  },
  {
   "cell_type": "code",
   "execution_count": 5,
   "metadata": {
    "id": "9lIdVQ625MM9"
   },
   "outputs": [
    {
     "name": "stdout",
     "output_type": "stream",
     "text": [
      "Found 4317 images belonging to 5 classes.\n"
     ]
    }
   ],
   "source": [
    "xtest=test_data.flow_from_directory('flowers/', target_size=(64,64), class_mode='categorical', batch_size=100)"
   ]
  },
  {
   "cell_type": "markdown",
   "metadata": {},
   "source": [
    "# **3. Creating CNN Model**"
   ]
  },
  {
   "cell_type": "code",
   "execution_count": 6,
   "metadata": {},
   "outputs": [],
   "source": [
    "from tensorflow.keras.models import Sequential\n",
    "from tensorflow.keras.layers import Convolution2D,MaxPooling2D,Flatten,Dense"
   ]
  },
  {
   "cell_type": "markdown",
   "metadata": {},
   "source": [
    "# **4. Add Layers (Convolution,MaxPooling,Flatten,Dense-(HiddenLayers),Output)**"
   ]
  },
  {
   "cell_type": "code",
   "execution_count": 7,
   "metadata": {},
   "outputs": [],
   "source": [
    "model=Sequential()\n",
    "model.add(Convolution2D(32,(3,3),activation='relu',input_shape=(64,64,3)))\n",
    "model.add(MaxPooling2D(pool_size=(2,2)))\n",
    "model.add(Flatten())\n",
    "model.add(Dense(300,activation='relu'))\n",
    "model.add(Dense(150,activation='relu'))\n",
    "model.add(Dense(5,activation='softmax'))"
   ]
  },
  {
   "cell_type": "markdown",
   "metadata": {},
   "source": [
    "# **5. Compile the Model**"
   ]
  },
  {
   "cell_type": "code",
   "execution_count": 8,
   "metadata": {},
   "outputs": [],
   "source": [
    "model.compile(optimizer='adam',loss='categorical_crossentropy',metrics=['accuracy'])"
   ]
  },
  {
   "cell_type": "markdown",
   "metadata": {},
   "source": [
    "# **6. Fit the Model**"
   ]
  },
  {
   "cell_type": "code",
   "execution_count": 22,
   "metadata": {},
   "outputs": [
    {
     "name": "stdout",
     "output_type": "stream",
     "text": [
      "Epoch 1/15\n",
      "44/44 [==============================] - 25s 575ms/step - loss: 0.5113 - accuracy: 0.8096 - val_loss: 0.4672 - val_accuracy: 0.8193\n",
      "Epoch 2/15\n",
      "44/44 [==============================] - 25s 567ms/step - loss: 0.5295 - accuracy: 0.8006 - val_loss: 0.4064 - val_accuracy: 0.8494\n",
      "Epoch 3/15\n",
      "44/44 [==============================] - 24s 559ms/step - loss: 0.4745 - accuracy: 0.8251 - val_loss: 0.3785 - val_accuracy: 0.8562\n",
      "Epoch 4/15\n",
      "44/44 [==============================] - 24s 560ms/step - loss: 0.4728 - accuracy: 0.8253 - val_loss: 0.4782 - val_accuracy: 0.8226\n",
      "Epoch 5/15\n",
      "44/44 [==============================] - 25s 560ms/step - loss: 0.4724 - accuracy: 0.8233 - val_loss: 0.3820 - val_accuracy: 0.8531\n",
      "Epoch 6/15\n",
      "44/44 [==============================] - 25s 562ms/step - loss: 0.4269 - accuracy: 0.8427 - val_loss: 0.3385 - val_accuracy: 0.8821\n",
      "Epoch 7/15\n",
      "44/44 [==============================] - 24s 557ms/step - loss: 0.3923 - accuracy: 0.8555 - val_loss: 0.3151 - val_accuracy: 0.8886\n",
      "Epoch 8/15\n",
      "44/44 [==============================] - 25s 564ms/step - loss: 0.3734 - accuracy: 0.8624 - val_loss: 0.3829 - val_accuracy: 0.8517\n",
      "Epoch 9/15\n",
      "44/44 [==============================] - 24s 555ms/step - loss: 0.3850 - accuracy: 0.8622 - val_loss: 0.3030 - val_accuracy: 0.8902\n",
      "Epoch 10/15\n",
      "44/44 [==============================] - 24s 554ms/step - loss: 0.3485 - accuracy: 0.8724 - val_loss: 0.2254 - val_accuracy: 0.9219\n",
      "Epoch 11/15\n",
      "44/44 [==============================] - 24s 554ms/step - loss: 0.3144 - accuracy: 0.8879 - val_loss: 0.3993 - val_accuracy: 0.8622\n",
      "Epoch 12/15\n",
      "44/44 [==============================] - 24s 558ms/step - loss: 0.3524 - accuracy: 0.8761 - val_loss: 0.2238 - val_accuracy: 0.9208\n",
      "Epoch 13/15\n",
      "44/44 [==============================] - 24s 551ms/step - loss: 0.2959 - accuracy: 0.8958 - val_loss: 0.1650 - val_accuracy: 0.9423\n",
      "Epoch 14/15\n",
      "44/44 [==============================] - 25s 561ms/step - loss: 0.2613 - accuracy: 0.9069 - val_loss: 0.2235 - val_accuracy: 0.9155\n",
      "Epoch 15/15\n",
      "44/44 [==============================] - 25s 566ms/step - loss: 0.2744 - accuracy: 0.9064 - val_loss: 0.2262 - val_accuracy: 0.9233\n"
     ]
    },
    {
     "data": {
      "text/plain": [
       "<keras.callbacks.History at 0x275d4621fa0>"
      ]
     },
     "execution_count": 22,
     "metadata": {},
     "output_type": "execute_result"
    }
   ],
   "source": [
    "model.fit(xtrain,steps_per_epoch=len(xtrain), epochs=15,validation_data=xtest,validation_steps=len(xtest))"
   ]
  },
  {
   "cell_type": "markdown",
   "metadata": {},
   "source": [
    "# **7. Save the Model**"
   ]
  },
  {
   "cell_type": "code",
   "execution_count": 10,
   "metadata": {},
   "outputs": [],
   "source": [
    "model.save('flowers.h5')"
   ]
  },
  {
   "cell_type": "markdown",
   "metadata": {},
   "source": [
    "# **8. Test the Model**"
   ]
  },
  {
   "cell_type": "code",
   "execution_count": 11,
   "metadata": {},
   "outputs": [],
   "source": [
    "from tensorflow.keras.preprocessing import image\n",
    "import numpy as np"
   ]
  },
  {
   "cell_type": "markdown",
   "metadata": {},
   "source": [
    "### Testing : Rose Image"
   ]
  },
  {
   "cell_type": "code",
   "execution_count": 28,
   "metadata": {},
   "outputs": [
    {
     "name": "stdout",
     "output_type": "stream",
     "text": [
      "1/1 [==============================] - 0s 24ms/step\n"
     ]
    },
    {
     "data": {
      "text/plain": [
       "'rose'"
      ]
     },
     "execution_count": 28,
     "metadata": {},
     "output_type": "execute_result"
    }
   ],
   "source": [
    "fl_img='imagetest1.jpg' \n",
    "img=image.load_img(fl_img,target_size=(64,64))\n",
    "x=image.img_to_array(img)\n",
    "x=np.expand_dims(x,axis=0)\n",
    "pred=np.argmax(model.predict(x))\n",
    "op=['daisy','dandelion','rose','sunflower','tulip']\n",
    "op[pred]"
   ]
  },
  {
   "cell_type": "code",
   "execution_count": 29,
   "metadata": {},
   "outputs": [
    {
     "data": {
      "image/png": "[encoded data removed]",
      "text/plain": [
       "<PIL.Image.Image image mode=RGB size=64x64 at 0x275D3CAFBE0>"
      ]
     },
     "execution_count": 29,
     "metadata": {},
     "output_type": "execute_result"
    }
   ],
   "source": [
    "img"
   ]
  },
  {
   "cell_type": "markdown",
   "metadata": {},
   "source": [
    "### Testing : Daisy Image"
   ]
  },
  {
   "cell_type": "code",
   "execution_count": 30,
   "metadata": {},
   "outputs": [
    {
     "name": "stdout",
     "output_type": "stream",
     "text": [
      "1/1 [==============================] - 0s 28ms/step\n"
     ]
    },
    {
     "data": {
      "text/plain": [
       "'daisy'"
      ]
     },
     "execution_count": 30,
     "metadata": {},
     "output_type": "execute_result"
    }
   ],
   "source": [
    "fl_img='imagetest3.jpg'\n",
    "img=image.load_img(fl_img,target_size=(64,64))\n",
    "x=image.img_to_array(img)\n",
    "x=np.expand_dims(x,axis=0)\n",
    "pred=np.argmax(model.predict(x))\n",
    "op=['daisy','dandelion','rose','sunflower','tulip']\n",
    "op[pred]"
   ]
  },
  {
   "cell_type": "code",
   "execution_count": 31,
   "metadata": {},
   "outputs": [
    {
     "data": {
      "image/png": "[encoded data removed]",
      "text/plain": [
       "<PIL.Image.Image image mode=RGB size=64x64 at 0x275D3D027F0>"
      ]
     },
     "execution_count": 31,
     "metadata": {},
     "output_type": "execute_result"
    }
   ],
   "source": [
    "img"
   ]
  },
  {
   "cell_type": "markdown",
   "metadata": {},
   "source": [
    "### Testing : Dandelion Image"
   ]
  },
  {
   "cell_type": "code",
   "execution_count": 32,
   "metadata": {},
   "outputs": [
    {
     "name": "stdout",
     "output_type": "stream",
     "text": [
      "1/1 [==============================] - 0s 26ms/step\n"
     ]
    },
    {
     "data": {
      "text/plain": [
       "'dandelion'"
      ]
     },
     "execution_count": 32,
     "metadata": {},
     "output_type": "execute_result"
    }
   ],
   "source": [
    "fl_img='imagetest4.jpg'\n",
    "img=image.load_img(fl_img,target_size=(64,64))\n",
    "x=image.img_to_array(img)\n",
    "x=np.expand_dims(x,axis=0)\n",
    "pred=np.argmax(model.predict(x))\n",
    "op=['daisy','dandelion','rose','sunflower','tulip']\n",
    "op[pred]"
   ]
  },
  {
   "cell_type": "code",
   "execution_count": 33,
   "metadata": {},
   "outputs": [
    {
     "data": {
      "image/png": "[encoded data removed]",
      "text/plain": [
       "<PIL.Image.Image image mode=RGB size=64x64 at 0x275D3D3FB80>"
      ]
     },
     "execution_count": 33,
     "metadata": {},
     "output_type": "execute_result"
    }
   ],
   "source": [
    "img"
   ]
  },
  {
   "cell_type": "markdown",
   "metadata": {},
   "source": [
    "### Testing : Sunflower Image"
   ]
  },
  {
   "cell_type": "code",
   "execution_count": 34,
   "metadata": {},
   "outputs": [
    {
     "name": "stdout",
     "output_type": "stream",
     "text": [
      "1/1 [==============================] - 0s 20ms/step\n"
     ]
    },
    {
     "data": {
      "text/plain": [
       "'sunflower'"
      ]
     },
     "execution_count": 34,
     "metadata": {},
     "output_type": "execute_result"
    }
   ],
   "source": [
    "fl_img='imagetest5.jpg'\n",
    "img=image.load_img(fl_img,target_size=(64,64))\n",
    "x=image.img_to_array(img)\n",
    "x=np.expand_dims(x,axis=0)\n",
    "pred=np.argmax(model.predict(x))\n",
    "op=['daisy','dandelion','rose','sunflower','tulip']\n",
    "op[pred]"
   ]
  },
  {
   "cell_type": "code",
   "execution_count": 35,
   "metadata": {},
   "outputs": [
    {
     "data": {
      "image/png": "[encoded data removed]",
      "text/plain": [
       "<PIL.Image.Image image mode=RGB size=64x64 at 0x275D3CAFB50>"
      ]
     },
     "execution_count": 35,
     "metadata": {},
     "output_type": "execute_result"
    }
   ],
   "source": [
    "img"
   ]
  },
  {
   "cell_type": "markdown",
   "metadata": {},
   "source": [
    "### Testing : Tulip Image"
   ]
  },
  {
   "cell_type": "code",
   "execution_count": 36,
   "metadata": {},
   "outputs": [
    {
     "name": "stdout",
     "output_type": "stream",
     "text": [
      "1/1 [==============================] - 0s 20ms/step\n"
     ]
    },
    {
     "data": {
      "text/plain": [
       "'tulip'"
      ]
     },
     "execution_count": 36,
     "metadata": {},
     "output_type": "execute_result"
    }
   ],
   "source": [
    "fl_img='imagetest6.jpg'\n",
    "img=image.load_img(fl_img,target_size=(64,64))\n",
    "x=image.img_to_array(img)\n",
    "x=np.expand_dims(x,axis=0)\n",
    "pred=np.argmax(model.predict(x))\n",
    "op=['daisy','dandelion','rose','sunflower','tulip']\n",
    "op[pred]"
   ]
  },
  {
   "cell_type": "code",
   "execution_count": 37,
   "metadata": {},
   "outputs": [
    {
     "data": {
      "image/png": "[encoded data removed]",
      "text/plain": [
       "<PIL.Image.Image image mode=RGB size=64x64 at 0x275D4192310>"
      ]
     },
     "execution_count": 37,
     "metadata": {},
     "output_type": "execute_result"
    }
   ],
   "source": [
    "img"
   ]
  }
 ],
 "metadata": {
  "colab": {
   "provenance": []
  },
  "kernelspec": {
   "display_name": "Python 3.7.8 64-bit",
   "language": "python",
   "name": "python3"
  },
  "language_info": {
   "codemirror_mode": {
    "name": "ipython",
    "version": 3
   },
   "file_extension": ".py",
   "mimetype": "text/x-python",
   "name": "python",
   "nbconvert_exporter": "python",
   "pygments_lexer": "ipython3",
   "version": "3.7.8"
  },
  "vscode": {
   "interpreter": {
    "hash": "df226d9b89db48b039e752b795e42fa94d2edb283fe8bffe1d59546eb19a9579"
   }
  }
 },
 "nbformat": 4,
 "nbformat_minor": 1
}
