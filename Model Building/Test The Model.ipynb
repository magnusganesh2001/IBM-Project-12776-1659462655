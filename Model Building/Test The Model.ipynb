{
  "cells": [
    {
      "cell_type": "code",
      "execution_count": 1,
      "metadata": {
        "id": "yJs2eLRLOSHM"
      },
      "outputs": [],
      "source": [
        "import cv2\n",
        "import numpy as np\n",
        "from keras.datasets import mnist\n",
        "from keras.layers import Dense, Flatten, MaxPooling2D, Dropout\n",
        "from keras.layers.convolutional import Conv2D\n",
        "from keras.models import Sequential\n",
        "from keras.utils import to_categorical\n",
        "import matplotlib.pyplot as plt"
      ]
    },
    {
      "cell_type": "code",
      "execution_count": 2,
      "metadata": {
        "colab": {
          "base_uri": "https://localhost:8080/"
        },
        "id": "-NoTriNEPBWl",
        "outputId": "1ceca63e-26d0-4a6a-b2c0-0cd952d515f0"
      },
      "outputs": [],
      "source": [
        "(X_train, y_train), (X_test, y_test) = mnist.load_data()"
      ]
    },
    {
      "cell_type": "code",
      "execution_count": 3,
      "metadata": {
        "colab": {
          "base_uri": "https://localhost:8080/",
          "height": 282
        },
        "id": "s_JYjDk2PGwL",
        "outputId": "d6cc49b8-d286-4bed-97ba-c5889303f296"
      },
      "outputs": [
        {
          "data": {
            "image/png": "[encoded data removed]",
            "text/plain": [
              "<Figure size 640x480 with 1 Axes>"
            ]
          },
          "metadata": {},
          "output_type": "display_data"
        },
        {
          "name": "stdout",
          "output_type": "stream",
          "text": [
            "5\n"
          ]
        }
      ],
      "source": [
        "plt.imshow(X_train[0], cmap=\"gray\")\n",
        "plt.show()\n",
        "print (y_train[0])"
      ]
    },
    {
      "cell_type": "code",
      "execution_count": 4,
      "metadata": {
        "colab": {
          "base_uri": "https://localhost:8080/"
        },
        "id": "Us6HotvxPPco",
        "outputId": "dddeb261-7494-47d3-f5c1-81f302ed3d69"
      },
      "outputs": [
        {
          "name": "stdout",
          "output_type": "stream",
          "text": [
            "Shape of X_train: (60000, 28, 28)\n",
            "Shape of y_train: (60000,)\n",
            "Shape of X_test: (10000, 28, 28)\n",
            "Shape of y_test: (10000,)\n"
          ]
        }
      ],
      "source": [
        "print (\"Shape of X_train: {}\".format(X_train.shape))\n",
        "print (\"Shape of y_train: {}\".format(y_train.shape))\n",
        "print (\"Shape of X_test: {}\".format(X_test.shape))\n",
        "print (\"Shape of y_test: {}\".format(y_test.shape))"
      ]
    },
    {
      "cell_type": "code",
      "execution_count": 5,
      "metadata": {
        "id": "n962FFkFPUzH"
      },
      "outputs": [],
      "source": [
        "# Reshaping so as to convert images for our model\n",
        "X_train = X_train.reshape(60000, 28, 28, 1)\n",
        "X_test = X_test.reshape(10000, 28, 28, 1)"
      ]
    },
    {
      "cell_type": "code",
      "execution_count": 6,
      "metadata": {
        "colab": {
          "base_uri": "https://localhost:8080/"
        },
        "id": "KZEPs_m5PZac",
        "outputId": "36b9a4ca-c313-422d-f84a-28b461b01dcd"
      },
      "outputs": [
        {
          "name": "stdout",
          "output_type": "stream",
          "text": [
            "Shape of X_train: (60000, 28, 28, 1)\n",
            "Shape of y_train: (60000,)\n",
            "Shape of X_test: (10000, 28, 28, 1)\n",
            "Shape of y_test: (10000,)\n"
          ]
        }
      ],
      "source": [
        "print (\"Shape of X_train: {}\".format(X_train.shape))\n",
        "print (\"Shape of y_train: {}\".format(y_train.shape))\n",
        "print (\"Shape of X_test: {}\".format(X_test.shape))\n",
        "print (\"Shape of y_test: {}\".format(y_test.shape))"
      ]
    },
    {
      "cell_type": "code",
      "execution_count": 7,
      "metadata": {
        "id": "BKtLDY0VQNkU"
      },
      "outputs": [],
      "source": [
        "#one hot encoding\n",
        "y_train = to_categorical(y_train)\n",
        "y_test = to_categorical(y_test)"
      ]
    },
    {
      "cell_type": "code",
      "execution_count": 8,
      "metadata": {
        "id": "-afmGNuHCWdh"
      },
      "outputs": [],
      "source": [
        "model = Sequential()\n",
        "\n",
        "## Declare the layers\n",
        "layer_1 = Conv2D(64, kernel_size=3, activation='relu', input_shape=(28, 28, 1))\n",
        "layer_2 = MaxPooling2D(pool_size=2)\n",
        "layer_3 = Conv2D(32, kernel_size=3, activation='relu')\n",
        "layer_4 = MaxPooling2D(pool_size=2)\n",
        "layer_5 = Dropout(0.5)\n",
        "layer_6 = Flatten()\n",
        "layer_7 = Dense(128, activation=\"relu\")\n",
        "layer_8 = Dropout(0.5)\n",
        "layer_9 = Dense(10, activation='softmax')\n",
        "\n",
        "## Add the layers to the model\n",
        "model.add(layer_1)\n",
        "model.add(layer_2)\n",
        "model.add(layer_3)\n",
        "model.add(layer_4)\n",
        "model.add(layer_5)\n",
        "model.add(layer_6)\n",
        "model.add(layer_7)\n",
        "model.add(layer_8)\n",
        "model.add(layer_9)"
      ]
    },
    {
      "cell_type": "code",
      "execution_count": 9,
      "metadata": {
        "id": "xLJShJAHDLhe"
      },
      "outputs": [],
      "source": [
        "model.compile(optimizer='adam', loss='categorical_crossentropy', metrics=['accuracy'])"
      ]
    },
    {
      "cell_type": "code",
      "execution_count": 10,
      "metadata": {
        "colab": {
          "base_uri": "https://localhost:8080/"
        },
        "id": "roVOfV9EDRi9",
        "outputId": "22787483-28d2-41ae-9cdf-666f95b41f6a"
      },
      "outputs": [
        {
          "name": "stdout",
          "output_type": "stream",
          "text": [
            "Epoch 1/3\n",
            "1875/1875 [==============================] - 45s 24ms/step - loss: 0.7943 - accuracy: 0.7904 - val_loss: 0.1030 - val_accuracy: 0.9682\n",
            "Epoch 2/3\n",
            "1875/1875 [==============================] - 46s 24ms/step - loss: 0.2555 - accuracy: 0.9225 - val_loss: 0.0700 - val_accuracy: 0.9769\n",
            "Epoch 3/3\n",
            "1875/1875 [==============================] - 44s 24ms/step - loss: 0.1910 - accuracy: 0.9431 - val_loss: 0.0573 - val_accuracy: 0.9816\n"
          ]
        },
        {
          "data": {
            "text/plain": [
              "<keras.callbacks.History at 0x1fed38d6e20>"
            ]
          },
          "execution_count": 10,
          "metadata": {},
          "output_type": "execute_result"
        }
      ],
      "source": [
        "model.fit(X_train, y_train, validation_data=(X_test, y_test), epochs=3)"
      ]
    },
    {
      "cell_type": "code",
      "execution_count": 11,
      "metadata": {
        "colab": {
          "base_uri": "https://localhost:8080/",
          "height": 595
        },
        "id": "styJoT_uDf6D",
        "outputId": "87aecfd4-45cd-441b-c184-0e255b5dc44d"
      },
      "outputs": [
        {
          "name": "stdout",
          "output_type": "stream",
          "text": [
            "1/1 [==============================] - 0s 227ms/step\n",
            "Prediction (Softmax) from the neural network:\n",
            "\n",
            " [[9.9999964e-01 2.1093927e-12 5.0157382e-08 1.1263767e-09 3.6478005e-11\n",
            "  6.4959937e-10 3.2160432e-07 3.2878239e-10 6.2057395e-09 5.5544769e-09]]\n",
            "\n",
            "\n",
            "Hard-maxed form of the prediction: \n",
            "\n",
            " [[1. 0. 0. 0. 0. 0. 0. 0. 0. 0.]]\n",
            "\n",
            "\n",
            "--------- Prediction --------- \n",
            "\n",
            "\n"
          ]
        },
        {
          "data": {
            "image/png": "[encoded data removed]",
            "text/plain": [
              "<Figure size 640x480 with 1 Axes>"
            ]
          },
          "metadata": {},
          "output_type": "display_data"
        },
        {
          "name": "stdout",
          "output_type": "stream",
          "text": [
            "\n",
            "\n",
            "Final Output: 0\n"
          ]
        }
      ],
      "source": [
        "example = X_train[1]\n",
        "prediction = model.predict(example.reshape(1, 28, 28, 1))\n",
        "print (\"Prediction (Softmax) from the neural network:\\n\\n {}\".format(prediction))\n",
        "hard_maxed_prediction = np.zeros(prediction.shape)\n",
        "hard_maxed_prediction[0][np.argmax(prediction)] = 1\n",
        "print (\"\\n\\nHard-maxed form of the prediction: \\n\\n {}\".format(hard_maxed_prediction))\n",
        "\n",
        "print (\"\\n\\n--------- Prediction --------- \\n\\n\")\n",
        "plt.imshow(example.reshape(28, 28), cmap=\"gray\")\n",
        "plt.show()\n",
        "print(\"\\n\\nFinal Output: {}\".format(np.argmax(prediction)))"
      ]
    },
    {
      "cell_type": "code",
      "execution_count": 12,
      "metadata": {
        "colab": {
          "base_uri": "https://localhost:8080/"
        },
        "id": "O05hxMgFFwBf",
        "outputId": "8711908d-bda8-4332-bb23-4a82cbf40acc"
      },
      "outputs": [
        {
          "name": "stdout",
          "output_type": "stream",
          "text": [
            "Metrices(test loss and Test Accuracy):\n",
            "[0.057333964854478836, 0.9815999865531921]\n"
          ]
        }
      ],
      "source": [
        "metrices=model.evaluate(X_test,y_test,verbose=0)\n",
        "print(\"Metrices(test loss and Test Accuracy):\")\n",
        "print(metrices)"
      ]
    },
    {
      "cell_type": "code",
      "execution_count": 13,
      "metadata": {
        "colab": {
          "base_uri": "https://localhost:8080/",
          "height": 337
        },
        "id": "104DE2lDGko0",
        "outputId": "a175187c-999e-4d57-86fc-2d78dbda46f4"
      },
      "outputs": [
        {
          "name": "stdout",
          "output_type": "stream",
          "text": [
            "\n",
            "\n",
            "\n",
            "----------------Contoured Image--------------------\n"
          ]
        },
        {
          "data": {
            "image/png": "[encoded data removed]",
            "text/plain": [
              "<Figure size 640x480 with 1 Axes>"
            ]
          },
          "metadata": {},
          "output_type": "display_data"
        }
      ],
      "source": [
        "image = cv2.imread('test_image.jpg')\n",
        "image = np.full((100,80,3), 12, dtype = np.uint8)\n",
        "grey = cv2.cvtColor(image.copy(), cv2.COLOR_BGR2GRAY)\n",
        "ret, thresh = cv2.threshold(grey.copy(), 75, 255, cv2.THRESH_BINARY_INV)\n",
        "contours,hierarchy = cv2.findContours(thresh.copy(), cv2.RETR_EXTERNAL, cv2.CHAIN_APPROX_SIMPLE)\n",
        "preprocessed_digits = []\n",
        "\n",
        "for c in contours:\n",
        "    x,y,w,h = cv2.boundingRect(c)\n",
        "    \n",
        "    # Creating a rectangle around the digit in the original image (for displaying the digits fetched via contours)\n",
        "    cv2.rectangle(image, (x,y), (x+w, y+h), color=(0, 255, 0), thickness=2)\n",
        "    \n",
        "    # Cropping out the digit from the image corresponding to the current contours in the for loop\n",
        "    digit = thresh[y:y+h, x:x+w]\n",
        "    \n",
        "    # Resizing that digit to (18, 18)\n",
        "    resized_digit = cv2.resize(digit, (18,18))\n",
        "    \n",
        "    # Padding the digit with 5 pixels of black color (zeros) in each side to finally produce the image of (28, 28)\n",
        "    padded_digit = np.pad(resized_digit, ((5,5),(5,5)), \"constant\", constant_values=0)\n",
        "    \n",
        "    # Adding the preprocessed digit to the list of preprocessed digits\n",
        "    preprocessed_digits.append(padded_digit)\n",
        "\n",
        "print(\"\\n\\n\\n----------------Contoured Image--------------------\")\n",
        "import os, types\n",
        "import pandas as pd\n",
        "\n",
        "def __iter__(self): return 0\n",
        "\n",
        "print=(\"\\n\\n\\n----------------Contoured Image--------------------\")\n",
        "plt.imshow(image, cmap=\"gray\")\n",
        "plt.show()\n",
        "    \n",
        "inp = np.array(preprocessed_digits)\n"
      ]
    },
    {
      "cell_type": "code",
      "execution_count": null,
      "metadata": {},
      "outputs": [],
      "source": []
    }
  ],
  "metadata": {
    "colab": {
      "provenance": []
    },
    "kernelspec": {
      "display_name": "Python 3.9.13 ('.venv': venv)",
      "language": "python",
      "name": "python3"
    },
    "language_info": {
      "codemirror_mode": {
        "name": "ipython",
        "version": 3
      },
      "file_extension": ".py",
      "mimetype": "text/x-python",
      "name": "python",
      "nbconvert_exporter": "python",
      "pygments_lexer": "ipython3",
      "version": "3.9.13"
    },
    "vscode": {
      "interpreter": {
        "hash": "c434f7770af242323c95c0a0848b9d742e1b7653a1fb34abeef81d6b32bdd1ad"
      }
    }
  },
  "nbformat": 4,
  "nbformat_minor": 0
}
